{
 "cells": [
  {
   "cell_type": "markdown",
   "metadata": {},
   "source": [
    "# Data Cleaning and Features Engineering (Part 2c)\n",
    "### Clean and Extract Features from Box Office Data (boxofficemojo.com)"
   ]
  },
  {
   "cell_type": "code",
   "execution_count": 1,
   "metadata": {},
   "outputs": [],
   "source": [
    "import pandas as pd"
   ]
  },
  {
   "cell_type": "code",
   "execution_count": 2,
   "metadata": {},
   "outputs": [
    {
     "data": {
      "text/html": [
       "<div>\n",
       "<style scoped>\n",
       "    .dataframe tbody tr th:only-of-type {\n",
       "        vertical-align: middle;\n",
       "    }\n",
       "\n",
       "    .dataframe tbody tr th {\n",
       "        vertical-align: top;\n",
       "    }\n",
       "\n",
       "    .dataframe thead th {\n",
       "        text-align: right;\n",
       "    }\n",
       "</style>\n",
       "<table border=\"1\" class=\"dataframe\">\n",
       "  <thead>\n",
       "    <tr style=\"text-align: right;\">\n",
       "      <th></th>\n",
       "      <th>movie_title</th>\n",
       "      <th>domestic_gross</th>\n",
       "      <th>domestic_opening</th>\n",
       "      <th>foreign_gross</th>\n",
       "      <th>markets</th>\n",
       "      <th>mpaa</th>\n",
       "      <th>total_gross</th>\n",
       "    </tr>\n",
       "  </thead>\n",
       "  <tbody>\n",
       "    <tr>\n",
       "      <th>0</th>\n",
       "      <td>Toy Story 4</td>\n",
       "      <td>$433,833,761</td>\n",
       "      <td>$120,908,065</td>\n",
       "      <td>$637,539,788</td>\n",
       "      <td>56 markets</td>\n",
       "      <td>G</td>\n",
       "      <td>$1,071,373,549</td>\n",
       "    </tr>\n",
       "    <tr>\n",
       "      <th>1</th>\n",
       "      <td>Pretenders</td>\n",
       "      <td>NaN</td>\n",
       "      <td>NaN</td>\n",
       "      <td>$3,509</td>\n",
       "      <td>Lithuania</td>\n",
       "      <td>NaN</td>\n",
       "      <td>$3,509</td>\n",
       "    </tr>\n",
       "    <tr>\n",
       "      <th>2</th>\n",
       "      <td>The Lion King</td>\n",
       "      <td>$543,265,323</td>\n",
       "      <td>$191,770,759</td>\n",
       "      <td>$1,110,039,326</td>\n",
       "      <td>56 markets</td>\n",
       "      <td>NaN</td>\n",
       "      <td>$1,653,304,649</td>\n",
       "    </tr>\n",
       "    <tr>\n",
       "      <th>3</th>\n",
       "      <td>Dilili in Paris (Dilili à Paris)</td>\n",
       "      <td>NaN</td>\n",
       "      <td>NaN</td>\n",
       "      <td>$4,856,037</td>\n",
       "      <td>APAC, EMEA</td>\n",
       "      <td>NaN</td>\n",
       "      <td>$4,856,037</td>\n",
       "    </tr>\n",
       "    <tr>\n",
       "      <th>4</th>\n",
       "      <td>Stuber</td>\n",
       "      <td>$22,370,452</td>\n",
       "      <td>$8,225,384</td>\n",
       "      <td>$10,020,493</td>\n",
       "      <td>34 markets</td>\n",
       "      <td>R</td>\n",
       "      <td>$32,390,945</td>\n",
       "    </tr>\n",
       "  </tbody>\n",
       "</table>\n",
       "</div>"
      ],
      "text/plain": [
       "                        movie_title domestic_gross domestic_opening  \\\n",
       "0                       Toy Story 4   $433,833,761     $120,908,065   \n",
       "1                        Pretenders            NaN              NaN   \n",
       "2                     The Lion King   $543,265,323     $191,770,759   \n",
       "3  Dilili in Paris (Dilili à Paris)            NaN              NaN   \n",
       "4                            Stuber    $22,370,452       $8,225,384   \n",
       "\n",
       "    foreign_gross     markets mpaa     total_gross  \n",
       "0    $637,539,788  56 markets    G  $1,071,373,549  \n",
       "1          $3,509   Lithuania  NaN          $3,509  \n",
       "2  $1,110,039,326  56 markets  NaN  $1,653,304,649  \n",
       "3      $4,856,037  APAC, EMEA  NaN      $4,856,037  \n",
       "4     $10,020,493  34 markets    R     $32,390,945  "
      ]
     },
     "execution_count": 2,
     "metadata": {},
     "output_type": "execute_result"
    }
   ],
   "source": [
    "# Read box office data csv from hive\n",
    "box_df = pd.read_csv(r\".\\full_movie_box_office_5000.csv\", sep =',')\n",
    "box_df.head(5)"
   ]
  },
  {
   "cell_type": "code",
   "execution_count": 3,
   "metadata": {},
   "outputs": [],
   "source": [
    "# Define function to obtain specific data from strings\n",
    "def get_markets(x):\n",
    "    for x in str.split(x):\n",
    "        if x.isdigit():\n",
    "            return int(x)\n",
    "        else: \n",
    "            return None"
   ]
  },
  {
   "cell_type": "markdown",
   "metadata": {},
   "source": [
    "### Data Cleaning\n",
    "- Convert columns such as domestic_gross, domestic_opening, foreign_gross, total_gross to numeric\n",
    "- Extract the number of markets' exposure (numeric) from the \"markets\" columns (string).\n",
    "- Calculate the total_gross = domestic_gross + foreign_gross, and to replace missing values in total_gross\n"
   ]
  },
  {
   "cell_type": "code",
   "execution_count": 4,
   "metadata": {},
   "outputs": [],
   "source": [
    "# Clean the data accordingly, convert string to appropriate data type (integer/date etc.)\n",
    "box_df[\"domestic_gross\"] = pd.to_numeric(box_df[\"domestic_gross\"].fillna(0).apply(lambda x: str(x).replace(\"$\", \"\").replace(\",\",\"\")), errors = \"coerce\")\n",
    "box_df[\"domestic_opening\"] = pd.to_numeric(box_df[\"domestic_opening\"].fillna(0).apply(lambda x: str(x).replace(\"$\", \"\").replace(\",\",\"\")), errors = \"coerce\")\n",
    "box_df[\"foreign_gross\"] = pd.to_numeric(box_df[\"foreign_gross\"].fillna(0).apply(lambda x: str(x).replace(\"$\", \"\").replace(\",\",\"\")), errors = \"coerce\")\n",
    "box_df[\"total_gross\"] = pd.to_numeric(box_df[\"total_gross\"].fillna(0).apply(lambda x: str(x).replace(\"$\", \"\").replace(\",\",\"\")), errors = \"coerce\")\n",
    "box_df[\"markets\"] = box_df[\"markets\"].apply(lambda x: get_markets(x))\n",
    "# Recalculate total_gross as the sum of domestic_gross and foreign_gross as the original total_gross is not consistent.\n",
    "box_df[\"total_gross_calc\"] = box_df[\"domestic_gross\"] + box_df[\"foreign_gross\"]\n",
    "box_df[\"total_gross\"] = box_df[\"total_gross\"].fillna(box_df[\"total_gross_calc\"])"
   ]
  },
  {
   "cell_type": "code",
   "execution_count": 5,
   "metadata": {},
   "outputs": [],
   "source": [
    "# Drop columns that are not useful\n",
    "box_df = box_df.drop([\"total_gross_calc\", \"mpaa\"], axis = 1)"
   ]
  },
  {
   "cell_type": "markdown",
   "metadata": {},
   "source": [
    "### Add a column to indicate missingness\n",
    "- Create a column called 'markets_missing' to indicate missing value in 'markets'"
   ]
  },
  {
   "cell_type": "code",
   "execution_count": 10,
   "metadata": {},
   "outputs": [],
   "source": [
    "box_df[\"markets_missing\"] = box_df[\"markets\"].isna()*1\n"
   ]
  },
  {
   "cell_type": "markdown",
   "metadata": {},
   "source": [
    "### Features 3: Box Office Data from boxofficemojo.com (box_df)\n"
   ]
  },
  {
   "cell_type": "code",
   "execution_count": 12,
   "metadata": {},
   "outputs": [],
   "source": [
    "box_df.to_csv(\"features_box_office.csv\", index = False)"
   ]
  },
  {
   "cell_type": "code",
   "execution_count": 13,
   "metadata": {},
   "outputs": [
    {
     "data": {
      "text/html": [
       "<div>\n",
       "<style scoped>\n",
       "    .dataframe tbody tr th:only-of-type {\n",
       "        vertical-align: middle;\n",
       "    }\n",
       "\n",
       "    .dataframe tbody tr th {\n",
       "        vertical-align: top;\n",
       "    }\n",
       "\n",
       "    .dataframe thead th {\n",
       "        text-align: right;\n",
       "    }\n",
       "</style>\n",
       "<table border=\"1\" class=\"dataframe\">\n",
       "  <thead>\n",
       "    <tr style=\"text-align: right;\">\n",
       "      <th></th>\n",
       "      <th>movie_title</th>\n",
       "      <th>domestic_gross</th>\n",
       "      <th>domestic_opening</th>\n",
       "      <th>foreign_gross</th>\n",
       "      <th>markets</th>\n",
       "      <th>total_gross</th>\n",
       "      <th>markets_missing</th>\n",
       "    </tr>\n",
       "  </thead>\n",
       "  <tbody>\n",
       "    <tr>\n",
       "      <th>0</th>\n",
       "      <td>Toy Story 4</td>\n",
       "      <td>433833761</td>\n",
       "      <td>120908065</td>\n",
       "      <td>637539788</td>\n",
       "      <td>56.0</td>\n",
       "      <td>1071373549</td>\n",
       "      <td>0</td>\n",
       "    </tr>\n",
       "    <tr>\n",
       "      <th>1</th>\n",
       "      <td>Pretenders</td>\n",
       "      <td>0</td>\n",
       "      <td>0</td>\n",
       "      <td>3509</td>\n",
       "      <td>NaN</td>\n",
       "      <td>3509</td>\n",
       "      <td>1</td>\n",
       "    </tr>\n",
       "    <tr>\n",
       "      <th>2</th>\n",
       "      <td>The Lion King</td>\n",
       "      <td>543265323</td>\n",
       "      <td>191770759</td>\n",
       "      <td>1110039326</td>\n",
       "      <td>56.0</td>\n",
       "      <td>1653304649</td>\n",
       "      <td>0</td>\n",
       "    </tr>\n",
       "    <tr>\n",
       "      <th>3</th>\n",
       "      <td>Dilili in Paris (Dilili à Paris)</td>\n",
       "      <td>0</td>\n",
       "      <td>0</td>\n",
       "      <td>4856037</td>\n",
       "      <td>NaN</td>\n",
       "      <td>4856037</td>\n",
       "      <td>1</td>\n",
       "    </tr>\n",
       "    <tr>\n",
       "      <th>4</th>\n",
       "      <td>Stuber</td>\n",
       "      <td>22370452</td>\n",
       "      <td>8225384</td>\n",
       "      <td>10020493</td>\n",
       "      <td>34.0</td>\n",
       "      <td>32390945</td>\n",
       "      <td>0</td>\n",
       "    </tr>\n",
       "  </tbody>\n",
       "</table>\n",
       "</div>"
      ],
      "text/plain": [
       "                        movie_title  domestic_gross  domestic_opening  \\\n",
       "0                       Toy Story 4       433833761         120908065   \n",
       "1                        Pretenders               0                 0   \n",
       "2                     The Lion King       543265323         191770759   \n",
       "3  Dilili in Paris (Dilili à Paris)               0                 0   \n",
       "4                            Stuber        22370452           8225384   \n",
       "\n",
       "   foreign_gross  markets  total_gross  markets_missing  \n",
       "0      637539788     56.0   1071373549                0  \n",
       "1           3509      NaN         3509                1  \n",
       "2     1110039326     56.0   1653304649                0  \n",
       "3        4856037      NaN      4856037                1  \n",
       "4       10020493     34.0     32390945                0  "
      ]
     },
     "execution_count": 13,
     "metadata": {},
     "output_type": "execute_result"
    }
   ],
   "source": [
    "box_df.head()"
   ]
  },
  {
   "cell_type": "code",
   "execution_count": null,
   "metadata": {},
   "outputs": [],
   "source": []
  }
 ],
 "metadata": {
  "kernelspec": {
   "display_name": "Python 3",
   "language": "python",
   "name": "python3"
  },
  "language_info": {
   "codemirror_mode": {
    "name": "ipython",
    "version": 3
   },
   "file_extension": ".py",
   "mimetype": "text/x-python",
   "name": "python",
   "nbconvert_exporter": "python",
   "pygments_lexer": "ipython3",
   "version": "3.7.4"
  }
 },
 "nbformat": 4,
 "nbformat_minor": 4
}
