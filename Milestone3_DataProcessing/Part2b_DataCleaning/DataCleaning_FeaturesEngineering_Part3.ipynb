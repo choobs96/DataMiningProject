{
 "cells": [
  {
   "cell_type": "markdown",
   "metadata": {},
   "source": [
    "# Data Cleaning and Features Engineering (Part 3)\n",
    "### Merge all features into one dataframe"
   ]
  },
  {
   "cell_type": "code",
   "execution_count": 1,
   "metadata": {},
   "outputs": [],
   "source": [
    "import pandas as pd"
   ]
  },
  {
   "cell_type": "markdown",
   "metadata": {},
   "source": [
    "### Load all three features"
   ]
  },
  {
   "cell_type": "code",
   "execution_count": 2,
   "metadata": {},
   "outputs": [
    {
     "data": {
      "text/plain": [
       "((4878, 31), (4854, 7), (4137, 7))"
      ]
     },
     "execution_count": 2,
     "metadata": {},
     "output_type": "execute_result"
    }
   ],
   "source": [
    "movie_df = pd.read_csv(r\".\\features_movie_info.csv\", sep =',')\n",
    "sentiment_df = pd.read_csv(r\".\\features_reviews_5000_sentiment_score.csv\", sep =',')\n",
    "box_df = pd.read_csv(r\".\\features_box_office.csv\", sep =',')\n",
    "movie_df.shape, sentiment_df.shape, box_df.shape"
   ]
  },
  {
   "cell_type": "code",
   "execution_count": 3,
   "metadata": {},
   "outputs": [
    {
     "data": {
      "text/html": [
       "<div>\n",
       "<style scoped>\n",
       "    .dataframe tbody tr th:only-of-type {\n",
       "        vertical-align: middle;\n",
       "    }\n",
       "\n",
       "    .dataframe tbody tr th {\n",
       "        vertical-align: top;\n",
       "    }\n",
       "\n",
       "    .dataframe thead th {\n",
       "        text-align: right;\n",
       "    }\n",
       "</style>\n",
       "<table border=\"1\" class=\"dataframe\">\n",
       "  <thead>\n",
       "    <tr style=\"text-align: right;\">\n",
       "      <th></th>\n",
       "      <th>url_id</th>\n",
       "      <th>ss_mean</th>\n",
       "      <th>ss_median</th>\n",
       "      <th>ss_p25</th>\n",
       "      <th>ss_p75</th>\n",
       "      <th>ss_std</th>\n",
       "      <th>ss_count</th>\n",
       "    </tr>\n",
       "  </thead>\n",
       "  <tbody>\n",
       "    <tr>\n",
       "      <th>0</th>\n",
       "      <td>https://www.rottentomatoes.com/m/10002519-brea...</td>\n",
       "      <td>1.000000</td>\n",
       "      <td>1.0</td>\n",
       "      <td>1.00</td>\n",
       "      <td>1.0</td>\n",
       "      <td>0.000000</td>\n",
       "      <td>6</td>\n",
       "    </tr>\n",
       "    <tr>\n",
       "      <th>1</th>\n",
       "      <td>https://www.rottentomatoes.com/m/1000_times_go...</td>\n",
       "      <td>0.818182</td>\n",
       "      <td>1.0</td>\n",
       "      <td>1.00</td>\n",
       "      <td>1.0</td>\n",
       "      <td>0.389249</td>\n",
       "      <td>55</td>\n",
       "    </tr>\n",
       "    <tr>\n",
       "      <th>2</th>\n",
       "      <td>https://www.rottentomatoes.com/m/10011489-bananas</td>\n",
       "      <td>0.666667</td>\n",
       "      <td>1.0</td>\n",
       "      <td>0.25</td>\n",
       "      <td>1.0</td>\n",
       "      <td>0.516398</td>\n",
       "      <td>6</td>\n",
       "    </tr>\n",
       "    <tr>\n",
       "      <th>3</th>\n",
       "      <td>https://www.rottentomatoes.com/m/1001_grams</td>\n",
       "      <td>0.909091</td>\n",
       "      <td>1.0</td>\n",
       "      <td>1.00</td>\n",
       "      <td>1.0</td>\n",
       "      <td>0.294245</td>\n",
       "      <td>22</td>\n",
       "    </tr>\n",
       "    <tr>\n",
       "      <th>4</th>\n",
       "      <td>https://www.rottentomatoes.com/m/1003757-cat_p...</td>\n",
       "      <td>0.913043</td>\n",
       "      <td>1.0</td>\n",
       "      <td>1.00</td>\n",
       "      <td>1.0</td>\n",
       "      <td>0.284885</td>\n",
       "      <td>46</td>\n",
       "    </tr>\n",
       "  </tbody>\n",
       "</table>\n",
       "</div>"
      ],
      "text/plain": [
       "                                              url_id   ss_mean  ss_median  \\\n",
       "0  https://www.rottentomatoes.com/m/10002519-brea...  1.000000        1.0   \n",
       "1  https://www.rottentomatoes.com/m/1000_times_go...  0.818182        1.0   \n",
       "2  https://www.rottentomatoes.com/m/10011489-bananas  0.666667        1.0   \n",
       "3        https://www.rottentomatoes.com/m/1001_grams  0.909091        1.0   \n",
       "4  https://www.rottentomatoes.com/m/1003757-cat_p...  0.913043        1.0   \n",
       "\n",
       "   ss_p25  ss_p75    ss_std  ss_count  \n",
       "0    1.00     1.0  0.000000         6  \n",
       "1    1.00     1.0  0.389249        55  \n",
       "2    0.25     1.0  0.516398         6  \n",
       "3    1.00     1.0  0.294245        22  \n",
       "4    1.00     1.0  0.284885        46  "
      ]
     },
     "execution_count": 3,
     "metadata": {},
     "output_type": "execute_result"
    }
   ],
   "source": [
    "sentiment_df.head()"
   ]
  },
  {
   "cell_type": "markdown",
   "metadata": {},
   "source": [
    "### Merge all features"
   ]
  },
  {
   "cell_type": "code",
   "execution_count": 4,
   "metadata": {},
   "outputs": [],
   "source": [
    "features_df = pd.merge(movie_df, sentiment_df, left_on = \"url\", right_on = \"url_id\", how = 'left')\n",
    "features_df = pd.merge(features_df, box_df, left_on = \"title\", right_on = \"movie_title\", how = \"left\")\n",
    "features_df = features_df.set_index(\"title\")"
   ]
  },
  {
   "cell_type": "code",
   "execution_count": 5,
   "metadata": {},
   "outputs": [
    {
     "data": {
      "text/plain": [
       "Index(['runtime', 'audience_score', 'tomatometer', 'tomatometer_count', 'url',\n",
       "       'user_rating_count', 'genre_Action', 'genre_Adventure', 'genre_Comedy',\n",
       "       'genre_Fantasy', 'genre_Horror', 'genre_Romance', 'genre_Sci-fi',\n",
       "       'genre_Special Interest', 'genre_Western', 'genre_FamilyKids',\n",
       "       'genre_AnimationManga', 'genre_FitnessSports', 'genre_DramaTele',\n",
       "       'genre_MusicalPerfarts', 'genre_ClassicsCult', 'genre_ArthouseInter',\n",
       "       'genre_ThrillMysSusp', 'genre_HistDocument', 'G', 'NC17', 'NR', 'PG',\n",
       "       'PG-13', 'R', 'url_id', 'ss_mean', 'ss_median', 'ss_p25', 'ss_p75',\n",
       "       'ss_std', 'ss_count', 'movie_title', 'domestic_gross',\n",
       "       'domestic_opening', 'foreign_gross', 'markets', 'total_gross',\n",
       "       'markets_missing'],\n",
       "      dtype='object')"
      ]
     },
     "execution_count": 5,
     "metadata": {},
     "output_type": "execute_result"
    }
   ],
   "source": [
    "features_df.columns"
   ]
  },
  {
   "cell_type": "markdown",
   "metadata": {},
   "source": [
    "### Drop id related columns"
   ]
  },
  {
   "cell_type": "code",
   "execution_count": 6,
   "metadata": {},
   "outputs": [],
   "source": [
    "# drop id related columns\n",
    "features_df = features_df.drop([\"url\", \"url_id\", \"movie_title\"], axis = 1)"
   ]
  },
  {
   "cell_type": "code",
   "execution_count": 7,
   "metadata": {},
   "outputs": [],
   "source": [
    "# rename tomatometer to movie_score\n",
    "features_df = features_df.rename(columns = {\"tomatometer\": \"movie_score\"})"
   ]
  },
  {
   "cell_type": "code",
   "execution_count": 8,
   "metadata": {},
   "outputs": [],
   "source": [
    "features_df[\"audience_score_positive\"] = features_df[\"audience_score\"] > features_df[\"audience_score\"].median()\n",
    "features_df[\"movie_score_positive\"] = features_df[\"movie_score\"] > features_df[\"movie_score\"].median()"
   ]
  },
  {
   "cell_type": "markdown",
   "metadata": {},
   "source": [
    "### Columns Metadata"
   ]
  },
  {
   "cell_type": "markdown",
   "metadata": {},
   "source": [
    "#### Features/Attributes/Predictors:\n",
    "1. 'runtime' - Movie length in minutes\n",
    "2. 'tomatometer_count' - Total number of ratings provided by movie critics in rottentomatoes.com\n",
    "3. 'user_rating_count' - Total number of ratings provided by verified users in rottentomatoes.com\n",
    "4. 'genre_Action', 'genre_Adventure', 'genre_Comedy', 'genre_Fantasy', 'genre_Horror', 'genre_Romance', 'genre_Sci-fi', 'genre_Special Interest', 'genre_Western', 'genre_FamilyKids', 'genre_AnimationManga', 'genre_FitnessSports', 'genre_DramaTele', 'genre_MusicalPerfarts', 'genre_ClassicsCult', 'genre_ArthouseInter',       'genre_ThrillMysSusp', 'genre_HistDocument' - The genres of the film  \n",
    "5. 'G', 'NC17', 'NR', 'PG', 'PG-13', 'R' - The MPAA film rating  \n",
    "6. 'ss_mean', 'ss_median', 'ss_p25', 'ss_p75', 'ss_std', 'ss_count' - Aggregate sentiment scores  \n",
    "7. 'domestic_gross', 'domestic_opening', 'foreign_gross', 'markets', 'total_gross', 'markets_missing' - Box office related features  \n",
    "\n",
    "#### Target:\n",
    "1. 'audience_score': The audience rating in rottentomatoes.com  \n",
    "2. 'movie_score': The tomatometer rating in rottentomatoes.com  \n",
    "3. 'audience_score_indicator': A binary indicator that indicates whether the movie is good or not (in the perspective of the audience)\n",
    "4. 'movie_score_indicator': A binary indicator that indicates whether the movie is good or not (in the perspective of the movie critics)"
   ]
  },
  {
   "cell_type": "markdown",
   "metadata": {},
   "source": [
    "### Export to CSV"
   ]
  },
  {
   "cell_type": "code",
   "execution_count": 9,
   "metadata": {},
   "outputs": [],
   "source": [
    "features_df.to_csv(\"training_data.csv\")"
   ]
  },
  {
   "cell_type": "code",
   "execution_count": null,
   "metadata": {},
   "outputs": [],
   "source": []
  },
  {
   "cell_type": "code",
   "execution_count": null,
   "metadata": {},
   "outputs": [],
   "source": []
  },
  {
   "cell_type": "code",
   "execution_count": null,
   "metadata": {},
   "outputs": [],
   "source": []
  }
 ],
 "metadata": {
  "kernelspec": {
   "display_name": "Python 3",
   "language": "python",
   "name": "python3"
  },
  "language_info": {
   "codemirror_mode": {
    "name": "ipython",
    "version": 3
   },
   "file_extension": ".py",
   "mimetype": "text/x-python",
   "name": "python",
   "nbconvert_exporter": "python",
   "pygments_lexer": "ipython3",
   "version": "3.7.4"
  }
 },
 "nbformat": 4,
 "nbformat_minor": 4
}
