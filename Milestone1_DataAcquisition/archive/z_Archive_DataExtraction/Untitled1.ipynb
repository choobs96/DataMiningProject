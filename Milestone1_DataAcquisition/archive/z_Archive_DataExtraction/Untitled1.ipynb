{
 "cells": [
  {
   "cell_type": "code",
   "execution_count": 1,
   "metadata": {},
   "outputs": [],
   "source": [
    "\n",
    "\n",
    "import time                  \n",
    "import requests\n",
    "from bs4 import BeautifulSoup\n",
    "from selenium import webdriver                    \n",
    "from selenium.webdriver.common.keys import Keys                      \n",
    "import re\n",
    "import pandas as pd\n",
    "import joblib\n",
    "\n",
    "browser = webdriver.Ie(executable_path=\"IEDriverServer.exe\")  \n",
    "action = webdriver.common.action_chains.ActionChains(browser)\n"
   ]
  },
  {
   "cell_type": "code",
   "execution_count": 2,
   "metadata": {},
   "outputs": [],
   "source": [
    "URL = \"https://www.mplusonline.com.my/\"\n",
    "# Browse to the page listing all movies with DVD or Streaming options available  \n",
    "browser.get(URL) "
   ]
  },
  {
   "cell_type": "code",
   "execution_count": 5,
   "metadata": {},
   "outputs": [],
   "source": [
    "el=browser.find_elements_by_xpath('//*[@id=\"inlineFormInputPwd\"]')[0]\n",
    "\n",
    "# action.move_to_element_with_offset(el, 2, 0).click().perform() #.send_keys(Keys.ENTER).perform()\n",
    "# action.perform()\n",
    "# action.send_keys(Keys.ENTER)\n",
    "# action.perform()\n"
   ]
  },
  {
   "cell_type": "code",
   "execution_count": null,
   "metadata": {},
   "outputs": [],
   "source": [
    "action.move_to_element(el).perform();\n",
    "# action.send_keys(\"a\").perform()\n",
    "action.context_click().perform()"
   ]
  },
  {
   "cell_type": "code",
   "execution_count": null,
   "metadata": {},
   "outputs": [],
   "source": []
  }
 ],
 "metadata": {
  "kernelspec": {
   "display_name": "Python 3",
   "language": "python",
   "name": "python3"
  },
  "language_info": {
   "codemirror_mode": {
    "name": "ipython",
    "version": 3
   },
   "file_extension": ".py",
   "mimetype": "text/x-python",
   "name": "python",
   "nbconvert_exporter": "python",
   "pygments_lexer": "ipython3",
   "version": "3.7.1"
  }
 },
 "nbformat": 4,
 "nbformat_minor": 4
}
