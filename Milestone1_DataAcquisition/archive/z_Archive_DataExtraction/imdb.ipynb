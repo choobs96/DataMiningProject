{
 "cells": [
  {
   "cell_type": "markdown",
   "metadata": {},
   "source": [
    "### Web Scraping on Movie Info and Reviews from rottentomatoes.com \n",
    "1. Obtain a list of urls of the latest 250 movies with DVD or Streaming options available  \n",
    "2. For each movie, scrap the information and ratings. (Structured Data)\n",
    "3. For each movie, scrap the user reviews. (Unstructured Data)"
   ]
  },
  {
   "cell_type": "code",
   "execution_count": 2,
   "metadata": {},
   "outputs": [],
   "source": [
    "import time                  \n",
    "import requests\n",
    "from bs4 import BeautifulSoup\n",
    "from selenium import webdriver                    \n",
    "from selenium.webdriver.common.keys import Keys                      \n",
    "import re\n",
    "import pandas as pd\n",
    "import joblib"
   ]
  },
  {
   "cell_type": "code",
   "execution_count": null,
   "metadata": {},
   "outputs": [],
   "source": [
    "browser = webdriver.Firefox(executable_path=\"./geckodriver-v0.25.0-win64/geckodriver.exe\")  \n",
    "browser.get('https://www.imdb.com/') "
   ]
  },
  {
   "cell_type": "code",
   "execution_count": 12,
   "metadata": {},
   "outputs": [],
   "source": [
    "\n",
    "search = browser.find_elements_by_id('navbar-query')[0]\n",
    "# time.sleep(1.5) # Wait for button to appear \n",
    "search.send_keys('Toy Story 4')                        # 4 \n",
    "time.sleep(2)                                             # 5 \n",
    "search.send_keys(Keys.ENTER) \n",
    "search_result_1 = browser.find_elements_by_class_name(\"result_text\")[0]\n",
    "first_movie_url = search_result_1.find_element_by_tag_name(\"a\").get_attribute(name=\"href\")"
   ]
  },
  {
   "cell_type": "code",
   "execution_count": 30,
   "metadata": {},
   "outputs": [],
   "source": []
  },
  {
   "cell_type": "code",
   "execution_count": 26,
   "metadata": {},
   "outputs": [],
   "source": []
  },
  {
   "cell_type": "markdown",
   "metadata": {},
   "source": [
    "### For each movie, scrap the information and ratings."
   ]
  },
  {
   "cell_type": "code",
   "execution_count": null,
   "metadata": {},
   "outputs": [],
   "source": [
    "%%time\n",
    "movie_info = []\n",
    "for url_movie in movies_urls:\n",
    "    movie_info.append(get_movie_info_and_rating(url_movie))\n",
    "    print(\"Completed:\", url_movie)"
   ]
  },
  {
   "cell_type": "code",
   "execution_count": null,
   "metadata": {},
   "outputs": [],
   "source": [
    "df = pd.DataFrame(movie_info)\n",
    "df.head() # Preview of the data"
   ]
  },
  {
   "cell_type": "code",
   "execution_count": null,
   "metadata": {},
   "outputs": [],
   "source": [
    "# Temporarily store these data in CSV\n",
    "df.to_csv(\"movie_info.csv\", index=False)"
   ]
  },
  {
   "cell_type": "markdown",
   "metadata": {},
   "source": [
    "### For each movie, scrap the user reviews."
   ]
  },
  {
   "cell_type": "code",
   "execution_count": null,
   "metadata": {},
   "outputs": [],
   "source": [
    "%%time\n",
    "# We will assign the list of user reviews to a dictionary with the url as the key\n",
    "movie_reviews = {}\n",
    "for url_movie in movies_urls:\n",
    "    reviews = get_reviews_list(url_movie)\n",
    "    movie_reviews[url_movie] = reviews     \n",
    "    print(\"Completed:\", url_movie)"
   ]
  },
  {
   "cell_type": "code",
   "execution_count": null,
   "metadata": {},
   "outputs": [],
   "source": [
    "movie_reviews[movies_urls[10]][0:10] # Preview some user reviews of a movie"
   ]
  },
  {
   "cell_type": "code",
   "execution_count": null,
   "metadata": {},
   "outputs": [],
   "source": [
    "# Temporarily save the dictionary as python pickled data *.pkl\n",
    "joblib.dump(movie_reviews, filename = \"movie_reviews.pkl\")"
   ]
  },
  {
   "cell_type": "code",
   "execution_count": null,
   "metadata": {},
   "outputs": [],
   "source": []
  }
 ],
 "metadata": {
  "kernelspec": {
   "display_name": "Python 3",
   "language": "python",
   "name": "python3"
  },
  "language_info": {
   "codemirror_mode": {
    "name": "ipython",
    "version": 3
   },
   "file_extension": ".py",
   "mimetype": "text/x-python",
   "name": "python",
   "nbconvert_exporter": "python",
   "pygments_lexer": "ipython3",
   "version": "3.7.1"
  }
 },
 "nbformat": 4,
 "nbformat_minor": 4
}
