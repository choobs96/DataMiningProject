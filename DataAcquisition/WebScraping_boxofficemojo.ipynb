{
 "cells": [
  {
   "cell_type": "markdown",
   "metadata": {},
   "source": [
    "# Data Mining Project: Milestone 1 (Part 2)\n",
    "### Web Scraping (Part 2): Scrap box office data from boxofficemojo.com\n",
    "1. Using selenium, open a browser and browse to https://www.boxofficemojo.com/\n",
    "2. Search the desired movie title on boxofficemojo.com\n",
    "3. Click into the first result page\n",
    "3. Extract the box office data of the movie"
   ]
  },
  {
   "cell_type": "code",
   "execution_count": 11,
   "metadata": {},
   "outputs": [],
   "source": [
    "import re\n",
    "import time    \n",
    "import joblib\n",
    "import pandas as pd\n",
    "import requests\n",
    "from bs4 import BeautifulSoup\n",
    "from selenium import webdriver                    \n",
    "from selenium.webdriver.common.keys import Keys                      \n",
    "\n",
    "def open_browser():\n",
    "    '''Open a browser using selenium'''\n",
    "    browser = webdriver.Firefox(executable_path=\"./geckodriver-v0.25.0-win64/geckodriver.exe\")  \n",
    "    return browser\n",
    "\n",
    "\n",
    "def get_text(browser, xpath):\n",
    "    '''Extract the text by xpath'''\n",
    "    try:\n",
    "        return browser.find_elements_by_xpath(xpath)[0].text \n",
    "    except:\n",
    "        return None\n",
    "\n",
    "def scrap_box_office_data(browser, movie_title):\n",
    "    try:\n",
    "        URL = \"https://www.boxofficemojo.com/date\"\n",
    "        browser.get(URL) \n",
    "        time.sleep(0.5)  \n",
    "        \n",
    "        # Search the movie title on boxofficemojo.com\n",
    "        search = browser.find_elements_by_xpath('//*[@id=\"mojo-search-text-input\"]')[0]\n",
    "        search.send_keys(Keys.ESCAPE) \n",
    "        \n",
    "        search = browser.find_elements_by_xpath('//*[@id=\"mojo-search-text-input\"]')[0]\n",
    "        time.sleep(1)  \n",
    "        search.send_keys(movie_title)\n",
    "        time.sleep(0.5)  \n",
    "        search.send_keys(Keys.ENTER) \n",
    "        time.sleep(2)      \n",
    "        \n",
    "        # On the search result page, click on the first result to go to the desired movie page\n",
    "        first_search = browser.find_elements_by_xpath('/html/body/div[1]/main/div/div/div/div[1]/div/div[2]/a')\n",
    "        if len(first_search) == 0:\n",
    "            print(\"No movie found:\", movie_title)\n",
    "            return {}\n",
    "        else:\n",
    "            movie_page_url = first_search[0].get_property(\"href\")\n",
    "            first_search[0].click()\n",
    "        \n",
    "#         # On the movie page, scrap all the box office data    \n",
    "        domestic_xpath = '/html/body/div[1]/main/div/div[3]/div[1]/div/div[1]/span[2]/span'\n",
    "        foreign_xpath = '/html/body/div[1]/main/div/div[3]/div[1]/div/div[2]/span[2]/span'\n",
    "        total_xpath = '/html/body/div[1]/main/div/div[3]/div[1]/div/div[3]/span[2]/span'\n",
    "        \n",
    "        distributor_xpath = '/html/body/div[1]/main/div/div[3]/div[4]/div[1]/span[2]'\n",
    "        opening_xpath = '/html/body/div[1]/main/div/div[3]/div[4]/div[2]/span[2]/span'\n",
    "        mpaa_xpath = '/html/body/div[1]/main/div/div[3]/div[4]/div[4]/span[2]'\n",
    "        mpaa_confirm_xpath = '/html/body/div[1]/main/div/div[3]/div[4]/div[4]/span[1]'\n",
    "        markets_xpath = '/html/body/div[1]/main/div/div[5]/div/div/table/tbody/tr[2]/td[3]'\n",
    "        \n",
    "        mpaa_confirm = get_text(browser, mpaa_confirm_xpath)\n",
    "        \n",
    "        box_office_dict = {}\n",
    "        box_office_dict[\"movie_title\"] = movie_title\n",
    "        box_office_dict[\"domestic_gross\"] = get_text(browser, domestic_xpath)\n",
    "        box_office_dict[\"foreign_gross\"] = get_text(browser, foreign_xpath)\n",
    "        box_office_dict[\"total_gross\"] = get_text(browser, total_xpath)\n",
    "#         box_office_dict[\"distributor\"] = get_text(browser, distributor_xpath)\n",
    "        box_office_dict[\"domestic_opening\"] = get_text(browser, opening_xpath)\n",
    "        if mpaa_confirm == \"MPAA\":\n",
    "            box_office_dict['mpaa'] = get_text(browser, mpaa_xpath)\n",
    "        else:\n",
    "            box_office_dict['mpaa'] = None\n",
    "        box_office_dict['markets'] = get_text(browser, markets_xpath)\n",
    "\n",
    "        return box_office_dict\n",
    "    except Exception as err:\n",
    "        print(\"No movie found err:\", movie_title, err)\n",
    "        return {}"
   ]
  },
  {
   "cell_type": "markdown",
   "metadata": {},
   "source": [
    "### Load the 5000 movie titles that we obtained from Part 1."
   ]
  },
  {
   "cell_type": "code",
   "execution_count": 12,
   "metadata": {},
   "outputs": [
    {
     "data": {
      "text/plain": [
       "(4878, 16)"
      ]
     },
     "execution_count": 12,
     "metadata": {},
     "output_type": "execute_result"
    }
   ],
   "source": [
    "df = pd.read_csv(\"movie_info_5000.csv\")\n",
    "df.shape"
   ]
  },
  {
   "cell_type": "markdown",
   "metadata": {},
   "source": [
    "### Scrap the box office data of the 5000 movies.\n",
    "*This will take more than 6 hours.*"
   ]
  },
  {
   "cell_type": "code",
   "execution_count": null,
   "metadata": {},
   "outputs": [],
   "source": [
    "%%time \n",
    "browser = open_browser()\n",
    "\n",
    "box_office_list = []\n",
    "for movie_title in df.title.values:\n",
    "    data = scrap_box_office_data(browser, movie_title)\n",
    "    box_office_list.append(data)\n",
    "    \n",
    "browser.close()\n"
   ]
  },
  {
   "cell_type": "markdown",
   "metadata": {},
   "source": [
    "#### Temporarily store these data in CSV. \n",
    "*These data will be stored in the Hive Data Warehouse in the next milestone.*"
   ]
  },
  {
   "cell_type": "code",
   "execution_count": 14,
   "metadata": {},
   "outputs": [
    {
     "name": "stdout",
     "output_type": "stream",
     "text": [
      "(1000, 7)\n"
     ]
    },
    {
     "data": {
      "text/html": [
       "<div>\n",
       "<style scoped>\n",
       "    .dataframe tbody tr th:only-of-type {\n",
       "        vertical-align: middle;\n",
       "    }\n",
       "\n",
       "    .dataframe tbody tr th {\n",
       "        vertical-align: top;\n",
       "    }\n",
       "\n",
       "    .dataframe thead th {\n",
       "        text-align: right;\n",
       "    }\n",
       "</style>\n",
       "<table border=\"1\" class=\"dataframe\">\n",
       "  <thead>\n",
       "    <tr style=\"text-align: right;\">\n",
       "      <th></th>\n",
       "      <th>domestic_gross</th>\n",
       "      <th>domestic_opening</th>\n",
       "      <th>foreign_gross</th>\n",
       "      <th>markets</th>\n",
       "      <th>movie_title</th>\n",
       "      <th>mpaa</th>\n",
       "      <th>total_gross</th>\n",
       "    </tr>\n",
       "  </thead>\n",
       "  <tbody>\n",
       "    <tr>\n",
       "      <th>0</th>\n",
       "      <td>$433,833,761</td>\n",
       "      <td>$120,908,065</td>\n",
       "      <td>$637,539,788</td>\n",
       "      <td>56 markets</td>\n",
       "      <td>Toy Story 4</td>\n",
       "      <td>G</td>\n",
       "      <td>$1,071,373,549</td>\n",
       "    </tr>\n",
       "    <tr>\n",
       "      <th>1</th>\n",
       "      <td>None</td>\n",
       "      <td>None</td>\n",
       "      <td>$3,509</td>\n",
       "      <td>Lithuania</td>\n",
       "      <td>Pretenders</td>\n",
       "      <td>None</td>\n",
       "      <td>$3,509</td>\n",
       "    </tr>\n",
       "    <tr>\n",
       "      <th>2</th>\n",
       "      <td>$543,265,323</td>\n",
       "      <td>$191,770,759</td>\n",
       "      <td>$1,110,039,326</td>\n",
       "      <td>56 markets</td>\n",
       "      <td>The Lion King</td>\n",
       "      <td>None</td>\n",
       "      <td>$1,653,304,649</td>\n",
       "    </tr>\n",
       "    <tr>\n",
       "      <th>3</th>\n",
       "      <td>None</td>\n",
       "      <td>None</td>\n",
       "      <td>$4,856,037</td>\n",
       "      <td>APAC, EMEA</td>\n",
       "      <td>Dilili in Paris (Dilili à Paris)</td>\n",
       "      <td>None</td>\n",
       "      <td>$4,856,037</td>\n",
       "    </tr>\n",
       "    <tr>\n",
       "      <th>4</th>\n",
       "      <td>$22,370,452</td>\n",
       "      <td>$8,225,384</td>\n",
       "      <td>$10,020,493</td>\n",
       "      <td>34 markets</td>\n",
       "      <td>Stuber</td>\n",
       "      <td>R</td>\n",
       "      <td>$32,390,945</td>\n",
       "    </tr>\n",
       "  </tbody>\n",
       "</table>\n",
       "</div>"
      ],
      "text/plain": [
       "  domestic_gross domestic_opening   foreign_gross     markets  \\\n",
       "0   $433,833,761     $120,908,065    $637,539,788  56 markets   \n",
       "1           None             None          $3,509   Lithuania   \n",
       "2   $543,265,323     $191,770,759  $1,110,039,326  56 markets   \n",
       "3           None             None      $4,856,037  APAC, EMEA   \n",
       "4    $22,370,452       $8,225,384     $10,020,493  34 markets   \n",
       "\n",
       "                        movie_title  mpaa     total_gross  \n",
       "0                       Toy Story 4     G  $1,071,373,549  \n",
       "1                        Pretenders  None          $3,509  \n",
       "2                     The Lion King  None  $1,653,304,649  \n",
       "3  Dilili in Paris (Dilili à Paris)  None      $4,856,037  \n",
       "4                            Stuber     R     $32,390,945  "
      ]
     },
     "execution_count": 14,
     "metadata": {},
     "output_type": "execute_result"
    }
   ],
   "source": [
    "box_office_df = pd.DataFrame(box_office_list)\n",
    "\n",
    "print(box_office_df.shape)\n",
    "box_office_df.head()\n"
   ]
  },
  {
   "cell_type": "code",
   "execution_count": 21,
   "metadata": {},
   "outputs": [
    {
     "data": {
      "text/plain": [
       "(817, 7)"
      ]
     },
     "execution_count": 21,
     "metadata": {},
     "output_type": "execute_result"
    }
   ],
   "source": [
    "# remove missing rows\n",
    "box_office_df = box_office_df.loc[~box_office_df.isna().all(axis = 1),:]\n",
    "box_office_df.shape"
   ]
  },
  {
   "cell_type": "code",
   "execution_count": 22,
   "metadata": {},
   "outputs": [],
   "source": [
    "# save as csv\n",
    "# box_office_df.to_csv(\"full_movie_box_office_5000.csv\", index = False)\n"
   ]
  },
  {
   "cell_type": "code",
   "execution_count": 31,
   "metadata": {},
   "outputs": [],
   "source": [
    "# df_list = [pd.read_csv(\"movie_box_office_5000_{}.csv\".format(j)) for j in [1,2,3,4]]\n",
    "# full_box_office_df = pd.concat(df_list)\n",
    "# full_box_office_df.set_index(\"movie_title\").to_csv(\"full_movie_box_office_5000.csv\")"
   ]
  },
  {
   "cell_type": "code",
   "execution_count": 33,
   "metadata": {},
   "outputs": [],
   "source": []
  },
  {
   "cell_type": "code",
   "execution_count": null,
   "metadata": {},
   "outputs": [],
   "source": []
  }
 ],
 "metadata": {
  "kernelspec": {
   "display_name": "Python 3",
   "language": "python",
   "name": "python3"
  },
  "language_info": {
   "codemirror_mode": {
    "name": "ipython",
    "version": 3
   },
   "file_extension": ".py",
   "mimetype": "text/x-python",
   "name": "python",
   "nbconvert_exporter": "python",
   "pygments_lexer": "ipython3",
   "version": "3.7.4"
  }
 },
 "nbformat": 4,
 "nbformat_minor": 4
}
