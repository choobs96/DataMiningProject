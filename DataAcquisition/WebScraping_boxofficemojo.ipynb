{
 "cells": [
  {
   "cell_type": "markdown",
   "metadata": {},
   "source": [
    "# Data Mining Project: Milestone 1 (Part 2)\n",
    "### Web Scraping (Part 2): Scrap box office data from boxofficemojo.com\n",
    "1. Using selenium, open a browser and browse to https://www.boxofficemojo.com/\n",
    "2. Search the desired movie title on boxofficemojo.com\n",
    "3. Click into the first result page\n",
    "3. Extract the box office data of the movie"
   ]
  },
  {
   "cell_type": "code",
   "execution_count": null,
   "metadata": {},
   "outputs": [],
   "source": [
    "import re\n",
    "import time    \n",
    "import joblib\n",
    "import pandas as pd\n",
    "import requests\n",
    "from bs4 import BeautifulSoup\n",
    "from selenium import webdriver                    \n",
    "from selenium.webdriver.common.keys import Keys                      \n",
    "\n",
    "def open_browser():\n",
    "    '''Open a browser using selenium'''\n",
    "    browser = webdriver.Firefox(executable_path=\"./geckodriver-v0.25.0-win64/geckodriver.exe\")  \n",
    "    return browser\n",
    "\n",
    "\n",
    "def get_text(browser, xpath):\n",
    "    '''Extract the text by xpath'''\n",
    "    try:\n",
    "        return browser.find_elements_by_xpath(xpath)[0].text \n",
    "    except:\n",
    "        return None\n",
    "\n",
    "def scrap_box_office_data(browser, movie_title):\n",
    "    URL = \"https://www.boxofficemojo.com/\"\n",
    "    browser.get(URL) \n",
    "    time.sleep(1) \n",
    "    \n",
    "    # Search the movie title on boxofficemojo.com\n",
    "    search = browser.find_elements_by_xpath('/html/body/div/div[3]/div[1]/ul/li[2]/form/input[1]')[0]\n",
    "    search.send_keys(movie_title)\n",
    "    time.sleep(1)                                             # 5 \n",
    "    search.send_keys(Keys.ENTER) \n",
    "    time.sleep(1)     \n",
    "    \n",
    "    # On the search result page, click on the first result to go to the desired movie page\n",
    "    first_search = browser.find_elements_by_xpath('/html/body/div/div[3]/div[2]/table[2]/tbody/tr/td/table[2]/tbody/tr[2]/td[1]/b/font/a')\n",
    "    if len(first_search) == 0:\n",
    "        print(\"No movie found:\", movie_title)\n",
    "        return {}\n",
    "    else:\n",
    "        movie_page_url = first_search[0].get_property(\"href\")\n",
    "        first_search[0].click()\n",
    "        \n",
    "    # On the movie page, scrap all the box office data    \n",
    "    box_office_dict = {}\n",
    "\n",
    "    domestic_xpath = '/html/body/div/div[3]/div[2]/table[2]/tbody/tr/td/table[2]/tbody/tr[2]/td/table/tbody/tr/td[1]/table/tbody/tr/td[1]/div[1]/div[2]/table/tbody/tr[1]/td[2]/b'\n",
    "    foreign_xpath = '/html/body/div/div[3]/div[2]/table[2]/tbody/tr/td/table[2]/tbody/tr[2]/td/table/tbody/tr/td[1]/table/tbody/tr/td[1]/div[1]/div[2]/table/tbody/tr[2]/td[2]'\n",
    "    total_xpath = '/html/body/div/div[3]/div[2]/table[2]/tbody/tr/td/table[2]/tbody/tr[2]/td/table/tbody/tr/td[1]/table/tbody/tr/td[1]/div[1]/div[2]/table/tbody/tr[4]/td[2]/b'\n",
    "    opening_xpath = '/html/body/div/div[3]/div[2]/table[2]/tbody/tr/td/table[2]/tbody/tr[2]/td/table/tbody/tr/td[1]/table/tbody/tr/td[1]/div[2]/div[2]/table[1]/tbody/tr[1]/td[2]'\n",
    "    stats_xpath = '/html/body/div/div[3]/div[2]/table[2]/tbody/tr/td/table[2]/tbody/tr[2]/td/table/tbody/tr/td[1]/table/tbody/tr/td[1]/div[2]/div[2]/table[1]/tbody/tr[2]/td/font'\n",
    "    widest_xpath = '/html/body/div/div[3]/div[2]/table[2]/tbody/tr/td/table[2]/tbody/tr[2]/td/table/tbody/tr/td[1]/table/tbody/tr/td[1]/div[2]/div[2]/table[2]/tbody/tr/td[2]'\n",
    "    widest_key_xpath = '/html/body/div/div[3]/div[2]/table[2]/tbody/tr/td/table[2]/tbody/tr[2]/td/table/tbody/tr/td[1]/table/tbody/tr/td[1]/div[2]/div[2]/table[2]/tbody/tr/td[1]'\n",
    "\n",
    "    close_date_xpath = '/html/body/div/div[3]/div[2]/table[2]/tbody/tr/td/table[2]/tbody/tr[2]/td/table/tbody/tr/td[1]/table/tbody/tr/td[1]/div[2]/div[2]/table[3]/tbody/tr/td[2]'\n",
    "    close_date_key_xpath = '/html/body/div/div[3]/div[2]/table[2]/tbody/tr/td/table[2]/tbody/tr[2]/td/table/tbody/tr/td[1]/table/tbody/tr/td[1]/div[2]/div[2]/table[3]/tbody/tr/td[1]'\n",
    "    in_release_xpath = '/html/body/div/div[3]/div[2]/table[2]/tbody/tr/td/table[2]/tbody/tr[2]/td/table/tbody/tr/td[1]/table/tbody/tr/td[1]/div[2]/div[2]/table[4]/tbody/tr/td[2]'\n",
    "    in_release_key_xpath = '/html/body/div/div[3]/div[2]/table[2]/tbody/tr/td/table[2]/tbody/tr[2]/td/table/tbody/tr/td[1]/table/tbody/tr/td[1]/div[2]/div[2]/table[4]/tbody/tr/td[1]'\n",
    "\n",
    "    domestic_gross = get_text(browser, domestic_xpath)\n",
    "    foreign_gross = get_text(browser, foreign_xpath)\n",
    "    total_gross = get_text(browser, total_xpath)\n",
    "    opening_weekend = get_text(browser, opening_xpath)\n",
    "\n",
    "    stats = get_text(browser, stats_xpath)\n",
    "    widest_release = get_text(browser, widest_xpath)\n",
    "    widest_release_key = get_text(browser, widest_key_xpath)\n",
    "    close_date = get_text(browser, close_date_xpath)\n",
    "    close_date_key = get_text(browser, close_date_key_xpath)\n",
    "    in_release = get_text(browser, in_release_xpath)\n",
    "    in_release_key = get_text(browser, in_release_key_xpath)\n",
    "\n",
    "    box_office_dict[\"domestic_gross\"] = domestic_gross\n",
    "    box_office_dict[\"foreign_gross\"] = foreign_gross\n",
    "    box_office_dict[\"total_gross\"] = total_gross\n",
    "    box_office_dict[\"opening_weekend\"] = opening_weekend\n",
    "    box_office_dict[\"stats\"] = stats\n",
    "    box_office_dict[widest_release_key] = widest_release\n",
    "    box_office_dict[close_date_key] = close_date\n",
    "    box_office_dict[in_release_key] = in_release\n",
    "    box_office_dict[\"title\"] = movie_title\n",
    "    \n",
    "    return box_office_dict"
   ]
  },
  {
   "cell_type": "markdown",
   "metadata": {},
   "source": [
    "### Load the 250 movie titles that we obtained from Part 1."
   ]
  },
  {
   "cell_type": "code",
   "execution_count": null,
   "metadata": {},
   "outputs": [],
   "source": [
    "df = pd.read_csv(\"movie_info.csv\")"
   ]
  },
  {
   "cell_type": "markdown",
   "metadata": {},
   "source": [
    "### Scrap the box office data of the 250 movies.\n",
    "*This will take approximately 20 minutes.*"
   ]
  },
  {
   "cell_type": "code",
   "execution_count": null,
   "metadata": {},
   "outputs": [],
   "source": [
    "%%time \n",
    "browser = open_browser()\n",
    "\n",
    "box_office_list = []\n",
    "for movie_title in df.title.values:\n",
    "    data = scrap_box_office_data(browser, movie_title)\n",
    "    box_office_list.append(data)\n",
    "    \n",
    "browser.close()\n"
   ]
  },
  {
   "cell_type": "markdown",
   "metadata": {},
   "source": [
    "#### Temporarily store these data in CSV. \n",
    "*These data will be stored in the Hive Data Warehouse in the next milestone.*"
   ]
  },
  {
   "cell_type": "code",
   "execution_count": null,
   "metadata": {},
   "outputs": [],
   "source": [
    "box_office_df = pd.DataFrame(box_office_list)\n",
    "box_office_df.to_csv(\"movie_box_office.csv\", index = False)"
   ]
  }
 ],
 "metadata": {
  "kernelspec": {
   "display_name": "Python 3",
   "language": "python",
   "name": "python3"
  },
  "language_info": {
   "codemirror_mode": {
    "name": "ipython",
    "version": 3
   },
   "file_extension": ".py",
   "mimetype": "text/x-python",
   "name": "python",
   "nbconvert_exporter": "python",
   "pygments_lexer": "ipython3",
   "version": "3.7.0"
  }
 },
 "nbformat": 4,
 "nbformat_minor": 2
}
