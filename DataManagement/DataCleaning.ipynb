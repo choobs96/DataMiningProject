{
 "cells": [
  {
   "cell_type": "code",
   "execution_count": 35,
   "metadata": {},
   "outputs": [],
   "source": [
    "import pandas as pd\n",
    "import numpy as np\n",
    "import joblib"
   ]
  },
  {
   "cell_type": "markdown",
   "metadata": {},
   "source": [
    "## Clean Movie Info Data (rottentomatoes.com)"
   ]
  },
  {
   "cell_type": "code",
   "execution_count": 2,
   "metadata": {},
   "outputs": [],
   "source": [
    "# Read the csv data output from the web scraper\n",
    "df = pd.read_csv(\"movie_info_2.csv\")"
   ]
  },
  {
   "cell_type": "code",
   "execution_count": null,
   "metadata": {},
   "outputs": [],
   "source": [
    "# Define some functions for data cleaning\n",
    "def clean_genre(x):\n",
    "    return \",\".join([j.strip() for j in str(x).split(\",\")])\n",
    "\n",
    "def clean_theater_date(x):\n",
    "    return str(x).split(\"\\n\")[0]\n",
    "\n",
    "def clean_written_by(x):\n",
    "    return \",\".join([j.replace(\"\\n\",\"\").strip() for j in str(x).split(\",\")])\n"
   ]
  },
  {
   "cell_type": "code",
   "execution_count": 4,
   "metadata": {},
   "outputs": [],
   "source": [
    "# Rename the columns\n",
    "new_columns = [\"box_office\", \"director\", \"genre\", \"theater_date\", \"streaming_date\", \"rating\", \"runtime\", \"studio\", \"written_by\", \"audience_score\", \"critics_consensus\", \"title\", \"tomatometer\", \"tomatometer_count\", \"url\", \"user_rating_count\"]\n",
    "df.columns = new_columns\n",
    "\n",
    "# Clean the data accordingly, convert string to appropriate data type (integer/date etc.)\n",
    "df[\"box_office\"] = df[\"box_office\"].fillna(0).apply(lambda x: str(x).replace(\"$\", \"\").replace(\",\",\"\"))\n",
    "df[\"box_office\"] = pd.to_numeric(df[\"box_office\"])\n",
    "df[\"genre\"].values[0].split(\",\")\n",
    "df[\"genre\"] = df[\"genre\"].apply(lambda x: clean_genre(x))\n",
    "df[\"theater_date\"] = pd.to_datetime(df[\"theater_date\"].apply(lambda x: clean_theater_date(x)))\n",
    "df[\"streaming_date\"] = pd.to_datetime(df['streaming_date'])\n",
    "df[\"rating\"] = df[\"rating\"].apply(lambda x: str(x).split(\"(\")[0].strip())\n",
    "df[\"runtime\"] = df[\"runtime\"].apply(lambda x: str(x).replace(\"minutes\", \"\").replace(\"nan\", \"\").strip())\n",
    "df[\"runtime\"] = pd.to_numeric(df[\"runtime\"])\n",
    "df[\"written_by\"] = df[\"written_by\"].apply(lambda x: clean_written_by(x))\n",
    "df[\"audience_score\"] =  pd.to_numeric(df[\"audience_score\"].apply(lambda x: str(x).replace(\"%\", \"\")), errors = \"coerce\")\n",
    "df[\"tomatometer\"] =  pd.to_numeric(df[\"tomatometer\"].apply(lambda x: str(x).replace(\"%\", \"\")), errors = \"coerce\")\n",
    "df[\"tomatometer_count\"] = pd.to_numeric(df[\"tomatometer_count\"].apply(lambda x: str(x).replace(\",\", \"\")), errors = \"coerce\")\n",
    "df[\"user_rating_count\"] = pd.to_numeric(df[\"user_rating_count\"].apply(lambda x: str(x).replace(\",\", \"\")), errors = \"coerce\")"
   ]
  },
  {
   "cell_type": "code",
   "execution_count": null,
   "metadata": {},
   "outputs": [],
   "source": [
    "# Output the data as csv (sep = ';')\n",
    "df.to_csv(\"movie_info_semisep.csv\", sep=\";\", index = False)"
   ]
  },
  {
   "cell_type": "markdown",
   "metadata": {},
   "source": [
    "## Clean Movie Reviews Data (rottentomatoes.com)"
   ]
  },
  {
   "cell_type": "code",
   "execution_count": 49,
   "metadata": {},
   "outputs": [],
   "source": [
    "# Load the pkl reviews data (scrap from rottentomatoes.com)\n",
    "reviews_data = joblib.load(\"movie_reviews.pkl\")\n",
    "\n",
    "# Restructure the data into a dataframe\n",
    "reviews_data_list = []\n",
    "for key, val in reviews_data.items():\n",
    "    for each_review in val:\n",
    "        d = {\"url_id\": key, \"review\": each_review}\n",
    "        reviews_data_list.append(d)\n",
    "reviews_df = pd.DataFrame(reviews_data_list)"
   ]
  },
  {
   "cell_type": "code",
   "execution_count": 50,
   "metadata": {},
   "outputs": [],
   "source": [
    "# Output the data as csv (sep = ';')\n",
    "reviews_df.to_csv(\"movie_reviews_semisep.csv\", sep=\";\", index = False)\n"
   ]
  },
  {
   "cell_type": "markdown",
   "metadata": {},
   "source": [
    "## Clean Movie Box Office Data (boxofficemojo.com)"
   ]
  },
  {
   "cell_type": "code",
   "execution_count": 148,
   "metadata": {},
   "outputs": [],
   "source": [
    "# load the box office data\n",
    "box_df = pd.read_csv(\"movie_box_office.csv\")"
   ]
  },
  {
   "cell_type": "code",
   "execution_count": null,
   "metadata": {},
   "outputs": [],
   "source": [
    "# Define some functions to obtain specific data from strings\n",
    "def get_opening_rank(x):\n",
    "    try:\n",
    "        return str(x).split(\"#\")[1].split(\"rank\")[0].strip().replace(\",\", \"\")\n",
    "    except: \n",
    "        return None\n",
    "\n",
    "def get_opening_theater(x):\n",
    "    try:\n",
    "        return str(x).split(\"rank,\")[1].split(\"theater\")[0].strip().replace(\",\", \"\")\n",
    "    except:\n",
    "        return None\n",
    "\n",
    "def get_opening_average(x):\n",
    "    try:\n",
    "        return str(x).split(\"$\")[1].split(\"average\")[0].strip().replace(\",\", \"\")\n",
    "    except:\n",
    "        return None"
   ]
  },
  {
   "cell_type": "code",
   "execution_count": 149,
   "metadata": {},
   "outputs": [],
   "source": [
    "# rename the columns\n",
    "box_new_columns = [\"close_date\", \"in_release\", \"widest_release\", \"domestic_gross\", \"foreign_gross\", \"opening_weekend\", \"opening_stats\", \"movie_title_key\", \"total_gross\", \"unknown\", \"limited_opening_weekend\", \"wide_opening_weekend\"]\n",
    "box_df.columns = box_new_columns"
   ]
  },
  {
   "cell_type": "code",
   "execution_count": 150,
   "metadata": {},
   "outputs": [],
   "source": [
    "# Clean each columns accordingly\n",
    "box_df[\"close_date\"] = pd.to_datetime(box_df[\"close_date\"])\n",
    "box_df[\"in_release\"] = pd.to_numeric(box_df[\"in_release\"].fillna(0).apply(lambda x: str(x).split(\"days\")[0].replace(\",\",\"\")))\n",
    "box_df[\"widest_release\"] = pd.to_numeric(box_df[\"widest_release\"].fillna(0).apply(lambda x: str(x).split(\"theaters\")[0].replace(\",\", \"\")))\n",
    "box_df[\"domestic_gross\"] = pd.to_numeric(box_df[\"domestic_gross\"].fillna(0).apply(lambda x: str(x).replace(\"$\", \"\").replace(\",\",\"\")), errors = \"coerce\")\n",
    "box_df[\"foreign_gross\"] = pd.to_numeric(box_df[\"foreign_gross\"].fillna(0).apply(lambda x: str(x).replace(\"$\", \"\").replace(\",\",\"\")), errors = \"coerce\")\n",
    "box_df[\"total_gross\"] = pd.to_numeric(box_df[\"total_gross\"].fillna(0).apply(lambda x: str(x).replace(\"$\", \"\").replace(\",\",\"\")), errors = \"coerce\")\n",
    "box_df[\"opening_weekend\"] = pd.to_numeric(box_df[\"opening_weekend\"].fillna(0).apply(lambda x: str(x).replace(\"$\", \"\").replace(\",\",\"\")), errors = \"coerce\")\n",
    "box_df[\"opening_rank\"] = pd.to_numeric(box_df[\"opening_stats\"].apply(lambda x: get_opening_rank(x)), errors = \"coerce\")\n",
    "box_df[\"opening_theater\"] = pd.to_numeric(box_df[\"opening_stats\"].apply(lambda x: get_opening_theater(x)), errors = \"coerce\")\n",
    "box_df[\"opening_average\"] = pd.to_numeric(box_df[\"opening_stats\"].apply(lambda x: get_opening_average(x)), errors = \"coerce\")\n",
    "box_df[\"total_gross_calc\"] = box_df[\"domestic_gross\"] + box_df[\"foreign_gross\"]\n",
    "box_df[\"total_gross\"] = box_df[\"total_gross\"].fillna(box_df[\"total_gross_calc\"])\n"
   ]
  },
  {
   "cell_type": "code",
   "execution_count": 151,
   "metadata": {},
   "outputs": [
    {
     "data": {
      "text/plain": [
       "Index(['unknown', 'limited_opening_weekend', 'wide_opening_weekend'], dtype='object')"
      ]
     },
     "execution_count": 151,
     "metadata": {},
     "output_type": "execute_result"
    }
   ],
   "source": [
    "# Find columns with at least 80% missing observations \n",
    "box_df.columns[box_df.isna().mean(axis =0) > 0.8]"
   ]
  },
  {
   "cell_type": "code",
   "execution_count": 152,
   "metadata": {},
   "outputs": [
    {
     "data": {
      "text/html": [
       "<div>\n",
       "<style scoped>\n",
       "    .dataframe tbody tr th:only-of-type {\n",
       "        vertical-align: middle;\n",
       "    }\n",
       "\n",
       "    .dataframe tbody tr th {\n",
       "        vertical-align: top;\n",
       "    }\n",
       "\n",
       "    .dataframe thead th {\n",
       "        text-align: right;\n",
       "    }\n",
       "</style>\n",
       "<table border=\"1\" class=\"dataframe\">\n",
       "  <thead>\n",
       "    <tr style=\"text-align: right;\">\n",
       "      <th></th>\n",
       "      <th>close_date</th>\n",
       "      <th>in_release</th>\n",
       "      <th>widest_release</th>\n",
       "      <th>domestic_gross</th>\n",
       "      <th>foreign_gross</th>\n",
       "      <th>opening_weekend</th>\n",
       "      <th>movie_title_key</th>\n",
       "      <th>total_gross</th>\n",
       "      <th>opening_rank</th>\n",
       "      <th>opening_theater</th>\n",
       "      <th>opening_average</th>\n",
       "    </tr>\n",
       "  </thead>\n",
       "  <tbody>\n",
       "    <tr>\n",
       "      <th>0</th>\n",
       "      <td>2019-05-19</td>\n",
       "      <td>17</td>\n",
       "      <td>1</td>\n",
       "      <td>12042</td>\n",
       "      <td>0.0</td>\n",
       "      <td>5150.0</td>\n",
       "      <td>Quartet</td>\n",
       "      <td>0</td>\n",
       "      <td>71.0</td>\n",
       "      <td>1.0</td>\n",
       "      <td>5150.0</td>\n",
       "    </tr>\n",
       "    <tr>\n",
       "      <th>1</th>\n",
       "      <td>NaT</td>\n",
       "      <td>0</td>\n",
       "      <td>0</td>\n",
       "      <td>0</td>\n",
       "      <td>0.0</td>\n",
       "      <td>0.0</td>\n",
       "      <td>NaN</td>\n",
       "      <td>0</td>\n",
       "      <td>NaN</td>\n",
       "      <td>NaN</td>\n",
       "      <td>NaN</td>\n",
       "    </tr>\n",
       "    <tr>\n",
       "      <th>2</th>\n",
       "      <td>NaT</td>\n",
       "      <td>0</td>\n",
       "      <td>0</td>\n",
       "      <td>0</td>\n",
       "      <td>0.0</td>\n",
       "      <td>0.0</td>\n",
       "      <td>Spider-Man: Far From Home</td>\n",
       "      <td>0</td>\n",
       "      <td>NaN</td>\n",
       "      <td>NaN</td>\n",
       "      <td>NaN</td>\n",
       "    </tr>\n",
       "    <tr>\n",
       "      <th>3</th>\n",
       "      <td>2018-11-18</td>\n",
       "      <td>17</td>\n",
       "      <td>17</td>\n",
       "      <td>113956</td>\n",
       "      <td>0.0</td>\n",
       "      <td>53000.0</td>\n",
       "      <td>Bodied</td>\n",
       "      <td>0</td>\n",
       "      <td>43.0</td>\n",
       "      <td>14.0</td>\n",
       "      <td>3786.0</td>\n",
       "    </tr>\n",
       "    <tr>\n",
       "      <th>4</th>\n",
       "      <td>NaT</td>\n",
       "      <td>0</td>\n",
       "      <td>0</td>\n",
       "      <td>0</td>\n",
       "      <td>0.0</td>\n",
       "      <td>0.0</td>\n",
       "      <td>NaN</td>\n",
       "      <td>0</td>\n",
       "      <td>NaN</td>\n",
       "      <td>NaN</td>\n",
       "      <td>NaN</td>\n",
       "    </tr>\n",
       "  </tbody>\n",
       "</table>\n",
       "</div>"
      ],
      "text/plain": [
       "  close_date  in_release  widest_release  domestic_gross  foreign_gross  \\\n",
       "0 2019-05-19          17               1           12042            0.0   \n",
       "1        NaT           0               0               0            0.0   \n",
       "2        NaT           0               0               0            0.0   \n",
       "3 2018-11-18          17              17          113956            0.0   \n",
       "4        NaT           0               0               0            0.0   \n",
       "\n",
       "   opening_weekend            movie_title_key  total_gross  opening_rank  \\\n",
       "0           5150.0                    Quartet            0          71.0   \n",
       "1              0.0                        NaN            0           NaN   \n",
       "2              0.0  Spider-Man: Far From Home            0           NaN   \n",
       "3          53000.0                     Bodied            0          43.0   \n",
       "4              0.0                        NaN            0           NaN   \n",
       "\n",
       "   opening_theater  opening_average  \n",
       "0              1.0           5150.0  \n",
       "1              NaN              NaN  \n",
       "2              NaN              NaN  \n",
       "3             14.0           3786.0  \n",
       "4              NaN              NaN  "
      ]
     },
     "execution_count": 152,
     "metadata": {},
     "output_type": "execute_result"
    }
   ],
   "source": [
    "# Drop columns that are not useful\n",
    "box_df = box_df.drop([\"opening_stats\",\"total_gross_calc\", \"limited_opening_weekend\", \"wide_opening_weekend\", \"unknown\"], axis = 1)\n",
    "box_df.head()"
   ]
  }
 ],
 "metadata": {
  "kernelspec": {
   "display_name": "Python 3",
   "language": "python",
   "name": "python3"
  },
  "language_info": {
   "codemirror_mode": {
    "name": "ipython",
    "version": 3
   },
   "file_extension": ".py",
   "mimetype": "text/x-python",
   "name": "python",
   "nbconvert_exporter": "python",
   "pygments_lexer": "ipython3",
   "version": "3.7.1"
  }
 },
 "nbformat": 4,
 "nbformat_minor": 4
}
